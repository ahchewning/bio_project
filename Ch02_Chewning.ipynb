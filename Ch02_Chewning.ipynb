{
 "cells": [
  {
   "cell_type": "code",
   "execution_count": 27,
   "metadata": {
    "collapsed": false
   },
   "outputs": [
    {
     "name": "stdout",
     "output_type": "stream",
     "text": [
      "The A & T content of this DNA is 37.\n"
     ]
    }
   ],
   "source": [
    "#Calculating AT content\n",
    "dna =\"ACTGATCGATTACGTATAGTATTTGCTATCATACATATATATCGATGCGTTCAT\"\n",
    "A_count = dna.count('A')\n",
    "T_count = dna.count('T')\n",
    "content = A_count + T_count\n",
    "print(\"The A & T content of this DNA is \" + str(content) + \".\")\n"
   ]
  },
  {
   "cell_type": "code",
   "execution_count": 11,
   "metadata": {
    "collapsed": false
   },
   "outputs": [
    {
     "name": "stdout",
     "output_type": "stream",
     "text": [
      "TGACATCGATTACGTATAGTATTTGCTATCATACATATATATCGATGCGTTCAT\n"
     ]
    }
   ],
   "source": [
    "#Complementing DNA\n",
    "bases = \"ACTGATCGATTACGTATAGTATTTGCTATCATACATATATATCGATGCGTTCAT\"\n",
    "comp = (bases.replace(\"ACTG\",\"TGAC\"))\n",
    "print(comp)"
   ]
  },
  {
   "cell_type": "code",
   "execution_count": 16,
   "metadata": {
    "collapsed": false
   },
   "outputs": [
    {
     "name": "stdout",
     "output_type": "stream",
     "text": [
      "21\n"
     ]
    },
    {
     "data": {
      "text/plain": [
       "34"
      ]
     },
     "execution_count": 16,
     "metadata": {},
     "output_type": "execute_result"
    }
   ],
   "source": [
    "#Restriction fragment lengths\n",
    "prob2 = \"ACTGATCGATTACGTATAGTAGAATTCTATCATACATATATATCGATGCGTTCAT\"\n",
    "tilcut = print(str(prob2.find('GAATTC')))\n",
    "len(prob2) - prob2.find('GAATTC')"
   ]
  },
  {
   "cell_type": "code",
   "execution_count": 42,
   "metadata": {
    "collapsed": false
   },
   "outputs": [
    {
     "name": "stdout",
     "output_type": "stream",
     "text": [
      "TCGATCGATCGATCGATCGATCATGCT\n"
     ]
    }
   ],
   "source": [
    "#Splicing out introns, part one\n",
    "prob3 = \"ATCGATCGATCGATCGACTGACTAGTCATAGCTATGCATGTAGCTACTCGATCGATCGATCGATCGATCGATCGATCGATCGATCATGCTATCATCGATCGATATCGATGCATCGACTACTAT\"\n",
    "exon1 =(prob3[0:162])\n",
    "intron1 =(prob3[63:90])\n",
    "exon2 = (prob3[91:1000])\n",
    "print(intron1)"
   ]
  },
  {
   "cell_type": "code",
   "execution_count": 48,
   "metadata": {
    "collapsed": false
   },
   "outputs": [
    {
     "name": "stdout",
     "output_type": "stream",
     "text": [
      "The porportion of this region that is NONcoding regions is: 21.951219512195124 percent.\n"
     ]
    }
   ],
   "source": [
    "#Splicing out introns, part two\n",
    "proportion_noncoding = len(intron1) / len(prob3) * 100\n",
    "print(\"The porportion of this region that is NONcoding regions is: \" + str(proportion_noncoding) + \" percent.\")\n"
   ]
  },
  {
   "cell_type": "code",
   "execution_count": 43,
   "metadata": {
    "collapsed": false
   },
   "outputs": [
    {
     "name": "stdout",
     "output_type": "stream",
     "text": [
      "atcgatcgatcgatcgactgactagtcatagctatgcatgtagctactcgatcgatcgatcgatcgatcgatcgatcgatcgatcatgctatcatcgatcgatatcgatgcatcgactactatTCGATCGATCGATCGATCGATCATGCTtcatcgatcgatatcgatgcatcgactactat\n"
     ]
    }
   ],
   "source": [
    "#Splicing out introns, part three\n",
    "print(exon1.lower() + intron1 + exon2.lower())"
   ]
  },
  {
   "cell_type": "code",
   "execution_count": null,
   "metadata": {
    "collapsed": true
   },
   "outputs": [],
   "source": []
  }
 ],
 "metadata": {
  "kernelspec": {
   "display_name": "Python 3",
   "language": "python",
   "name": "python3"
  },
  "language_info": {
   "codemirror_mode": {
    "name": "ipython",
    "version": 3
   },
   "file_extension": ".py",
   "mimetype": "text/x-python",
   "name": "python",
   "nbconvert_exporter": "python",
   "pygments_lexer": "ipython3",
   "version": "3.6.0"
  }
 },
 "nbformat": 4,
 "nbformat_minor": 2
}
