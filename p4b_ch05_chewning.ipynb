{
 "cells": [
  {
   "cell_type": "code",
   "execution_count": 11,
   "metadata": {
    "collapsed": false
   },
   "outputs": [
    {
     "name": "stdout",
     "output_type": "stream",
     "text": [
      "AT content is 0.6851851851851852\n"
     ]
    }
   ],
   "source": [
    "#This Chapter is about creating your own program\n",
    "#Split your code into your own function\n",
    "my_dna = \"ACTGATCGATTACGTATAGTATTTGCTATCATACATATATATCGATGCGTTCAT\" \n",
    "length = len(my_dna) \n",
    "a_count = my_dna.count('A') \n",
    "t_count = my_dna.count('T') \n",
    "at_content = (a_count + t_count) / length \n",
    "print(\"AT content is \" + str(at_content)) \n"
   ]
  },
  {
   "cell_type": "code",
   "execution_count": 13,
   "metadata": {
    "collapsed": false
   },
   "outputs": [
    {
     "name": "stdout",
     "output_type": "stream",
     "text": [
      "0.6851851851851852\n"
     ]
    }
   ],
   "source": [
    "#define a function (know what you are putting in and what you want out)'\n",
    "#input = string(DNA)  output = number (decimal)\n",
    "def get_at_content(dna): \n",
    "    length = len(dna) \n",
    "    a_count = dna.count('A') \n",
    "    t_count = dna.count('T') \n",
    "    at_content = (a_count + t_count) / length \n",
    "    return at_content \n",
    "\n",
    "#def is short for define then write the name of your new function\n",
    "#return tells you want you want to call output\n",
    "\n",
    "print(at_content)"
   ]
  },
  {
   "cell_type": "code",
   "execution_count": 16,
   "metadata": {
    "collapsed": false
   },
   "outputs": [
    {
     "name": "stdout",
     "output_type": "stream",
     "text": [
      "0.45\n",
      "0.53\n",
      "0.52\n"
     ]
    }
   ],
   "source": [
    "#any variable created in a function only exist in the function\n",
    "#add arounding step to limmite sig figs. Beautiful.\n",
    "def get_at_content(dna): \n",
    "    length = len(dna) \n",
    "    a_count = dna.upper().count('A') \n",
    "    t_count = dna.upper().count('T') \n",
    "    at_content = (a_count + t_count) / length \n",
    "    return round(at_content, 2)\n",
    "\n",
    "my_at_content = get_at_content(\"ATGCGCGATCGATCGAATCG\")\n",
    "print(str(my_at_content))\n",
    "print(get_at_content(\"ATGCATGCAACTGTAGC\"))\n",
    "print(get_at_content(\"aactgtagctagctagcagcgta\"))"
   ]
  },
  {
   "cell_type": "code",
   "execution_count": 17,
   "metadata": {
    "collapsed": false
   },
   "outputs": [
    {
     "name": "stdout",
     "output_type": "stream",
     "text": [
      "0.5\n",
      "0.53\n",
      "0.529\n"
     ]
    }
   ],
   "source": [
    "#when you want to test how rounding works\n",
    "def get_at_content(dna, sig_figs): \n",
    "    length = len(dna) \n",
    "    a_count = dna.upper().count('A') \n",
    "    t_count = dna.upper().count('T') \n",
    "    at_content = (a_count + t_count) / length \n",
    "    return round(at_content, sig_figs)\n",
    " \n",
    "test_dna = \"ATGCATGCAACTGTAGC\"\n",
    "print(get_at_content(test_dna, 1))\n",
    "print(get_at_content(test_dna, 2))\n",
    "print(get_at_content(test_dna, 3))"
   ]
  },
  {
   "cell_type": "code",
   "execution_count": 18,
   "metadata": {
    "collapsed": true
   },
   "outputs": [],
   "source": [
    "#Encapsulation- deviding a complex program into little bits to be worked on indipendnetly\n",
    "#keep track of where things are defined\n",
    "#don't make parts depenent on each other\n",
    "\n",
    "\n"
   ]
  },
  {
   "cell_type": "code",
   "execution_count": 19,
   "metadata": {
    "collapsed": false
   },
   "outputs": [
    {
     "data": {
      "text/plain": [
       "0.45"
      ]
     },
     "execution_count": 19,
     "metadata": {},
     "output_type": "execute_result"
    }
   ],
   "source": [
    "#Functions can be called with named arguments\n",
    "#these are the same\n",
    "#use assert to see if you get what you thougth you would\n",
    "get_at_content(dna=\"ATCGTGACTCG\", sig_figs=2)\n",
    "get_at_content(sig_figs=2, dna=\"ATCGTGACTCG\")\n",
    "assert get_at_content(\"ATGC\") == 0.5"
   ]
  },
  {
   "cell_type": "code",
   "execution_count": 23,
   "metadata": {
    "collapsed": false
   },
   "outputs": [
    {
     "name": "stdout",
     "output_type": "stream",
     "text": [
      "counting number of M\n",
      "running total is 1\n",
      "counting number of L\n",
      "running total is 11\n",
      "counting number of F\n",
      "running total is 13\n",
      "final percentage is 65.0\n"
     ]
    }
   ],
   "source": [
    "#AA contnet\n",
    "protein = \"MSRSLLLRFLLFLLLLPPLP\"\n",
    "aa_list = ['M', 'L', 'F']\n",
    "# the total variable will hold the total number of matching residues \n",
    "total = 0 \n",
    "for aa in aa_list: \n",
    "    print(\"counting number of \" + aa)\n",
    "    aa = aa.upper() \n",
    "    aa_count = protein.count(aa) \n",
    "    # add the number for this residue to the total count\n",
    "    total = total + aa_count \n",
    "    print(\"running total is \" + str(total))\n",
    "    \n",
    "percentage = total * 100 / len(protein)\n",
    "print(\"final percentage is \" + str(percentage))"
   ]
  },
  {
   "cell_type": "code",
   "execution_count": 25,
   "metadata": {
    "collapsed": true
   },
   "outputs": [],
   "source": [
    "def get_aa_percentage(protein, aa_list=['A','I','L','M','F','W','Y','V']):\n",
    "    protein = protein.upper() \n",
    "    protein_length = len(protein) \n",
    "    total = 0 \n",
    "    for aa in aa_list: \n",
    "        aa = aa.upper() \n",
    "        aa_count = protein.count(aa) \n",
    "        total = total + aa_count \n",
    "    percentage = total * 100 / protein_length \n",
    "    return percentage\n"
   ]
  },
  {
   "cell_type": "code",
   "execution_count": null,
   "metadata": {
    "collapsed": true
   },
   "outputs": [],
   "source": []
  }
 ],
 "metadata": {
  "kernelspec": {
   "display_name": "Python 3",
   "language": "python",
   "name": "python3"
  },
  "language_info": {
   "codemirror_mode": {
    "name": "ipython",
    "version": 3
   },
   "file_extension": ".py",
   "mimetype": "text/x-python",
   "name": "python",
   "nbconvert_exporter": "python",
   "pygments_lexer": "ipython3",
   "version": "3.6.0"
  }
 },
 "nbformat": 4,
 "nbformat_minor": 2
}
