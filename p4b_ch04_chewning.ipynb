{
 "cells": [
  {
   "cell_type": "code",
   "execution_count": 65,
   "metadata": {
    "collapsed": false
   },
   "outputs": [],
   "source": [
    "peeves = [\"Limbs falling asleep\", \"Chewning gum longer than 20mins\", \"Reading while someone is watching me\"]\n",
    "toaster_settings = [3,4,4]"
   ]
  },
  {
   "cell_type": "code",
   "execution_count": 66,
   "metadata": {
    "collapsed": false
   },
   "outputs": [
    {
     "name": "stdout",
     "output_type": "stream",
     "text": [
      "Chewning gum longer than 20mins\n"
     ]
    }
   ],
   "source": [
    "print(peeves[1])"
   ]
  },
  {
   "cell_type": "code",
   "execution_count": 67,
   "metadata": {
    "collapsed": false
   },
   "outputs": [
    {
     "name": "stdout",
     "output_type": "stream",
     "text": [
      "4\n"
     ]
    }
   ],
   "source": [
    "perfect_setting = toaster_settings[2]\n",
    "print(perfect_setting)"
   ]
  },
  {
   "cell_type": "code",
   "execution_count": 70,
   "metadata": {
    "collapsed": false
   },
   "outputs": [
    {
     "name": "stdout",
     "output_type": "stream",
     "text": [
      "2\n"
     ]
    }
   ],
   "source": [
    "serious_peeve = peeves.index(\"Reading while someone is watching me\")\n",
    "print(serious_peeve)"
   ]
  },
  {
   "cell_type": "code",
   "execution_count": 71,
   "metadata": {
    "collapsed": false
   },
   "outputs": [
    {
     "name": "stdout",
     "output_type": "stream",
     "text": [
      "Reading while someone is watching me\n"
     ]
    }
   ],
   "source": [
    "last_peeve = peeves[-1]\n",
    "print(last_peeve)"
   ]
  },
  {
   "cell_type": "code",
   "execution_count": 72,
   "metadata": {
    "collapsed": false
   },
   "outputs": [
    {
     "name": "stdout",
     "output_type": "stream",
     "text": [
      "['Front Dive', 'Back Dive', 'Reverse Dive'] are easy dives, while the Triple Lindee is an impossible cinematic beauty. \n"
     ]
    }
   ],
   "source": [
    "Dives = [\"Front Dive\", \"Back Dive\", \"Reverse Dive\", \"Triple Lindee\"]\n",
    "easy_dives = Dives[:3]\n",
    "impossible_dives = Dives[-1]\n",
    "\n",
    "print(str(easy_dives) + \" are easy dives, while the \" + str(impossible_dives) + \" is an impossible cinematic beauty. \")"
   ]
  },
  {
   "cell_type": "code",
   "execution_count": 73,
   "metadata": {
    "collapsed": false
   },
   "outputs": [
    {
     "name": "stdout",
     "output_type": "stream",
     "text": [
      "I have 4 pet peeves.\n",
      "Actually, now I have 5 pet peeves. There are more where those came from too.\n"
     ]
    }
   ],
   "source": [
    "peeves.append(\"Sharing cups\")\n",
    "print(\"I have \" + str(len(peeves)) + \" pet peeves.\")\n",
    "peeves.append(\"The smell of Subway\")\n",
    "print(\"Actually, now I have \" + str(len(peeves)) + \" pet peeves. There are more where those came from too.\")\n"
   ]
  },
  {
   "cell_type": "code",
   "execution_count": 74,
   "metadata": {
    "collapsed": false
   },
   "outputs": [
    {
     "name": "stdout",
     "output_type": "stream",
     "text": [
      "5 peeves\n",
      "3 fears\n",
      "8 couseling_topics\n"
     ]
    }
   ],
   "source": [
    "fears = [\"Break Failure\", \"Death by Embarrassment\", \"starting a forest fire with my hair straightener\"]\n",
    "counseling_topics = peeves + fears\n",
    "\n",
    "print(str(len(peeves)) + \" peeves\")\n",
    "print(str(len(fears)) + \" fears\")\n",
    "print(str(len(counseling_topics)) + \" couseling_topics\")"
   ]
  },
  {
   "cell_type": "code",
   "execution_count": 75,
   "metadata": {
    "collapsed": false
   },
   "outputs": [
    {
     "name": "stdout",
     "output_type": "stream",
     "text": [
      "Order learned : ['Front Dive', 'Back Dive', 'Triple Lindee']\n",
      "Crowd favorites : ['Triple Lindee', 'Back Dive', 'Front Dive']\n",
      "After sorting : ['Triple Lindee', 'Back Dive', 'Front Dive']\n"
     ]
    }
   ],
   "source": [
    "Dives = [\"Front Dive\", \"Back Dive\",\"Triple Lindee\"]\n",
    "print(\"Order learned : \" + str(Dives))\n",
    "Dives.reverse()\n",
    "print(\"Crowd favorites : \" + str(Dives))\n",
    "Dives.sort\n",
    "print(\"After sorting : \" + str(Dives))"
   ]
  },
  {
   "cell_type": "code",
   "execution_count": 76,
   "metadata": {
    "collapsed": false
   },
   "outputs": [
    {
     "name": "stdout",
     "output_type": "stream",
     "text": [
      "Limbs falling asleep bothers me.\n",
      "Chewning gum longer than 20mins bothers me.\n",
      "Reading while someone is watching me bothers me.\n",
      "Sharing cups bothers me.\n",
      "The smell of Subway bothers me.\n"
     ]
    }
   ],
   "source": [
    "for peeve in peeves:\n",
    "    print(peeve + \" bothers me.\")"
   ]
  },
  {
   "cell_type": "code",
   "execution_count": 78,
   "metadata": {
    "collapsed": false
   },
   "outputs": [
    {
     "name": "stdout",
     "output_type": "stream",
     "text": [
      "I am afraid of Break Failure.\n",
      "I am afraid of Death by Embarrassment.\n",
      "I am afraid of starting a forest fire with my hair straightener.\n"
     ]
    }
   ],
   "source": [
    "for fear in fears:\n",
    "    print(\"I am afraid of \" + fear + '.')"
   ]
  },
  {
   "cell_type": "code",
   "execution_count": 79,
   "metadata": {
    "collapsed": false
   },
   "outputs": [
    {
     "name": "stdout",
     "output_type": "stream",
     "text": [
      "one letter is : K\n",
      "one letter is : a\n",
      "one letter is : t\n",
      "one letter is : h\n",
      "one letter is : e\n",
      "one letter is : r\n",
      "one letter is : i\n",
      "one letter is : n\n",
      "one letter is : e\n"
     ]
    }
   ],
   "source": [
    "name = \"Katherine\"\n",
    "for character in name:\n",
    "    print(\"one letter is : \" + character)"
   ]
  },
  {
   "cell_type": "code",
   "execution_count": 82,
   "metadata": {
    "collapsed": false
   },
   "outputs": [
    {
     "name": "stdout",
     "output_type": "stream",
     "text": [
      "['salsa', 'hip-hop', 'tap', 'Macarena', 'Ants in pants']\n"
     ]
    }
   ],
   "source": [
    "names = \"salsa,hip-hop,tap,Macarena,Ants in pants\"\n",
    "dances = names.split(\",\")\n",
    "print(str(dances))"
   ]
  },
  {
   "cell_type": "code",
   "execution_count": 83,
   "metadata": {
    "collapsed": true
   },
   "outputs": [],
   "source": [
    "#Warning: if you are reading data from a file, use one OR the other\n",
    "# .read to store the centire contents in a variabel\n",
    "# loop  to deal with each line separately\n",
    "#DO NOT MIX"
   ]
  },
  {
   "cell_type": "code",
   "execution_count": 87,
   "metadata": {
    "collapsed": false
   },
   "outputs": [
    {
     "name": "stdout",
     "output_type": "stream",
     "text": [
      "vls\n",
      "vlsp\n",
      "vlspa\n",
      "vlspad\n",
      "vlspadk\n",
      "vlspadkt\n",
      "vlspadktn\n",
      "vlspadktnv\n"
     ]
    }
   ],
   "source": [
    "#loop over a listof numbers\n",
    "protein = \"vlspadktnv\"\n",
    "#I want to print our first three, then first four, ext\n",
    "#extract a substring from the protien and print in the body of the loop\n",
    "#Then only substring stop posistion changes\n",
    "stop_positions = [3,4,5,6,7,8,9,10]\n",
    "for stop in stop_positions:\n",
    "    substring = protein[0:stop]\n",
    "    print(substring) \n",
    "#but....nahhhh"
   ]
  },
  {
   "cell_type": "code",
   "execution_count": 88,
   "metadata": {
    "collapsed": false
   },
   "outputs": [
    {
     "name": "stdout",
     "output_type": "stream",
     "text": [
      "0\n",
      "1\n",
      "2\n",
      "3\n",
      "4\n",
      "5\n"
     ]
    }
   ],
   "source": [
    "#lets use a range\n",
    "#counts inclusively from first\n",
    "#counts exclusively from the second\n",
    "for number in range(6):\n",
    "    print(number)"
   ]
  },
  {
   "cell_type": "code",
   "execution_count": 89,
   "metadata": {
    "collapsed": false
   },
   "outputs": [
    {
     "name": "stdout",
     "output_type": "stream",
     "text": [
      "2\n",
      "6\n",
      "10\n"
     ]
    }
   ],
   "source": [
    "for number in range(2,14,4):\n",
    "    print(number)"
   ]
  },
  {
   "cell_type": "code",
   "execution_count": 90,
   "metadata": {
    "collapsed": false
   },
   "outputs": [
    {
     "name": "stdout",
     "output_type": "stream",
     "text": [
      "ATTCGATTATAAGCTCGATCGATCGATCGATCGATCGATCGATCGATCGATCGATC\n",
      "\n",
      "ATTCGATTATAAGCACTGATCGATCGATCGATCGATCGATGCTATCGTCGT \n",
      "\n",
      "ATTCGATTATAAGCATCGATCACGATCTATCGTACGTATGCATATCGATATCGATCGTAGTC \n",
      "\n",
      "ATTCGATTATAAGCACTATCGATGATCTAGCTACGATCGTAGCTGTA \n",
      "\n",
      "ATTCGATTATAAGCACTAGCTAGTCTCGATGCATGATCAGCTTAGCTGATGATGCTATGCA \n"
     ]
    }
   ],
   "source": [
    "#reads each swguens from a file and prints to screen\n",
    "file = open(\"input.txt\")\n",
    "for dna in file:\n",
    "    print(dna)"
   ]
  },
  {
   "cell_type": "code",
   "execution_count": 93,
   "metadata": {
    "collapsed": false
   },
   "outputs": [
    {
     "name": "stdout",
     "output_type": "stream",
     "text": [
      "TCGATCGATCGATCGATCGATCGATCGATCGATCGATCGATC\n",
      "\n",
      "ACTGATCGATCGATCGATCGATCGATGCTATCGTCGT \n",
      "\n",
      "ATCGATCACGATCTATCGTACGTATGCATATCGATATCGATCGTAGTC \n",
      "\n",
      "ACTATCGATGATCTAGCTACGATCGTAGCTGTA \n",
      "\n",
      "ACTAGCTAGTCTCGATGCATGATCAGCTTAGCTGATGATGCTATGCA \n"
     ]
    }
   ],
   "source": [
    "#i need to remove the 14 bae adapter\n",
    "file = open(\"input.txt\")\n",
    "for dna in file:\n",
    "    last_character_position = len(dna)\n",
    "    trimmed_dna = dna[14:last_character_position]\n",
    "    print(trimmed_dna)"
   ]
  },
  {
   "cell_type": "code",
   "execution_count": 99,
   "metadata": {
    "collapsed": true
   },
   "outputs": [],
   "source": [
    "#now print to a file rather than the screen\n",
    "file = open(\"input.txt\")\n",
    "output = open(\"trimmed.txt\", 'w')\n",
    "for dna in file:\n",
    "    last_character_position = len(dna)\n",
    "    trimmed_dna = dna[14:last_character_position]\n",
    "    output.write(trimmed_dna)"
   ]
  },
  {
   "cell_type": "code",
   "execution_count": null,
   "metadata": {
    "collapsed": true
   },
   "outputs": [],
   "source": [
    "# exons location will all be ond different lines\n",
    "#then, you want different start and stope postioins in each line\n",
    "#lets use split to take what we want from each Line\n",
    "exon_location = open(\"exons.txt\")\n",
    "for line in exon_locations:\n",
    "    prostions = line.split(',')\n",
    "    start = posistions[0]\n",
    "    stop = positions [1]\n",
    "    print(\"start is\" + start = \" , stop is\" + stop)\n",
    "    \n"
   ]
  }
 ],
 "metadata": {
  "kernelspec": {
   "display_name": "Python 3",
   "language": "python",
   "name": "python3"
  },
  "language_info": {
   "codemirror_mode": {
    "name": "ipython",
    "version": 3
   },
   "file_extension": ".py",
   "mimetype": "text/x-python",
   "name": "python",
   "nbconvert_exporter": "python",
   "pygments_lexer": "ipython3",
   "version": "3.6.0"
  }
 },
 "nbformat": 4,
 "nbformat_minor": 2
}
